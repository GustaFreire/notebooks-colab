{
  "cells": [
    {
      "cell_type": "markdown",
      "metadata": {
        "id": "view-in-github",
        "colab_type": "text"
      },
      "source": [
        "<a href=\"https://colab.research.google.com/github/GustaFreire/notebooks-colab/blob/main/forca.ipynb\" target=\"_parent\"><img src=\"https://colab.research.google.com/assets/colab-badge.svg\" alt=\"Open In Colab\"/></a>"
      ]
    },
    {
      "cell_type": "markdown",
      "source": [
        "#Programa em Python que simula o Jogo da Forca!\n",
        "\n",
        "Ideia Geral: dado um arquivo com nome de frutas em cada linha, o programa faz o sorteio de uma fruta e pede para o usuário tentar adivinhar. Caso o usuário erre 7 vezes, o boneco é enforcado (game over)\n",
        "\n",
        "\n",
        "\n"
      ],
      "metadata": {
        "id": "P4BRLyEUw0nb"
      }
    },
    {
      "cell_type": "markdown",
      "source": [
        "*   precisa de um arquivo com nome de frutas para sorteio de uma palavra\n",
        "*   arquivo disponibilizado (palavras.txt)"
      ],
      "metadata": {
        "id": "qwikzE-lyGMl"
      }
    },
    {
      "cell_type": "markdown",
      "metadata": {
        "id": "rE0CXIRJsh7p"
      },
      "source": [
        "lib para sorteio da palavra a ser adivinhada"
      ]
    },
    {
      "cell_type": "code",
      "execution_count": 12,
      "metadata": {
        "id": "-SHMe0QMsh7w"
      },
      "outputs": [],
      "source": [
        "import random as rd"
      ]
    },
    {
      "cell_type": "markdown",
      "metadata": {
        "id": "IlZEGgX1sh7y"
      },
      "source": [
        "Função que realiza sorteio de uma palavra no arquivo palavras.txt (ou outro nome passado como parâmetro da função"
      ]
    },
    {
      "cell_type": "code",
      "execution_count": 13,
      "metadata": {
        "id": "uVRUa5VYsh70"
      },
      "outputs": [],
      "source": [
        "def carrega_palavra_secreta(nome_arquivo=\"palavras.txt\"): \n",
        "    with open(nome_arquivo) as arquivo:\n",
        "        palavras = [palavra.strip() for palavra in arquivo]\n",
        "    palavra_secreta = palavras[rd.randrange(0, len(palavras))].upper()\n",
        "    return palavra_secreta"
      ]
    },
    {
      "cell_type": "markdown",
      "metadata": {
        "id": "23tx8QmJsh71"
      },
      "source": [
        "Função que pede um input para o usuário (uma letra que é o \"chute\" ou palavra) e retorna tupla com a opção escolhida e letra/palavra toda maiuscula e sem espaços brancos nem \\n"
      ]
    },
    {
      "cell_type": "code",
      "execution_count": 14,
      "metadata": {
        "id": "QCY3EcDYsh72"
      },
      "outputs": [],
      "source": [
        "def pede_chute():\n",
        "    print(\"Escolha uma das opções abaixo:\")\n",
        "    print(\"1 - Chutar uma letra\")\n",
        "    print(\"2 - Chutar uma palavra\", end=\"\\n\\n\")\n",
        "    \n",
        "    opcao = int(input(\"Digite a opção desejada: \"))\n",
        "    chute = \"\"\n",
        "\n",
        "    if (opcao == 1):\n",
        "        chute = input(\"Qual letra?: \")\n",
        "    elif (opcao == 2):\n",
        "        chute = input(\"Qual palavra?: \")\n",
        "    else:\n",
        "        print(\"Opção inválida!\", end=\"\\n\\n\")\n",
        "        return pede_chute()\n",
        "\n",
        "    return (opcao, chute.strip().upper())"
      ]
    },
    {
      "cell_type": "markdown",
      "metadata": {
        "id": "rULPo65jsh74"
      },
      "source": [
        "Função que verifica se o chute é válido (percorre a palavra em busca da letra)"
      ]
    },
    {
      "cell_type": "code",
      "execution_count": 15,
      "metadata": {
        "id": "IkOhSKjIsh75"
      },
      "outputs": [],
      "source": [
        "def valida_chute(chute, letras_acertadas, palavra_secreta):\n",
        "    index = 0\n",
        "    for letra in palavra_secreta:\n",
        "        if (chute == letra):\n",
        "            letras_acertadas[index] = letra\n",
        "        index += 1\n",
        "\n",
        "    print(letras_acertadas, end=\"\\n\\n\")"
      ]
    },
    {
      "cell_type": "markdown",
      "metadata": {
        "id": "JoZMnN0Ksh76"
      },
      "source": [
        "Função que imprime mensagem caso o jogador perdeu "
      ]
    },
    {
      "cell_type": "code",
      "execution_count": 16,
      "metadata": {
        "id": "5El5_CPFsh78"
      },
      "outputs": [],
      "source": [
        "def imprime_mensagem_perdedor(palavra):\n",
        "    print(\"Puxa, você foi enforcado!\")\n",
        "\n",
        "    print(\"    _______________         \")\n",
        "    print(\"   /               \\       \")\n",
        "    print(\"  /                 \\      \")\n",
        "    print(\"//                   \\/\\  \")\n",
        "    print(\"\\|   XXXX     XXXX   | /   \")\n",
        "    print(\" |   XXXX     XXXX   |/     \")\n",
        "    print(\" |   XXX       XXX   |      \")\n",
        "    print(\" |                   |      \")\n",
        "    print(\" \\__      XXX      __/     \")\n",
        "    print(\"   |\\     XXX     /|       \")\n",
        "    print(\"   | |           | |        \")\n",
        "    print(\"   | I I I I I I I |        \")\n",
        "    print(\"   |  I I I I I I  |        \")\n",
        "    print(\"   \\_             _/       \")\n",
        "    print(\"     \\_         _/         \")\n",
        "    print(\"       \\_______/           \")\n",
        "\n",
        "    print(f\"A palavra era: {palavra}\")"
      ]
    },
    {
      "cell_type": "markdown",
      "metadata": {
        "id": "YVISP4hQsh79"
      },
      "source": [
        "Função que imprime mensagem caso o jogador acertou a palavra"
      ]
    },
    {
      "cell_type": "code",
      "execution_count": 17,
      "metadata": {
        "id": "JbeQCdlHsh7-"
      },
      "outputs": [],
      "source": [
        "def imprime_mensagem_vencedor(palavra):\n",
        "    print(\"Parabéns, você ganhou!\")\n",
        "    print(\"       ___________      \")\n",
        "    print(\"      '._==_==_=_.'     \")\n",
        "    print(\"      .-\\\\:      /-.    \")\n",
        "    print(\"     | (|:.     |) |    \")\n",
        "    print(\"      '-|:.     |-'     \")\n",
        "    print(\"        \\\\::.    /      \")\n",
        "    print(\"         '::. .'        \")\n",
        "    print(\"           ) (          \")\n",
        "    print(\"         _.' '._        \")\n",
        "    print(\"        '-------'       \")\n",
        "    print(f\"A palavra é: {palavra}\", end=\"\\n\\n\")"
      ]
    },
    {
      "cell_type": "markdown",
      "metadata": {
        "id": "Do5fLO8psh7_"
      },
      "source": [
        "Função que a cada letra errada, vai desenhando a forca com o bonequinho"
      ]
    },
    {
      "cell_type": "code",
      "execution_count": 18,
      "metadata": {
        "id": "KZmGje18sh8A"
      },
      "outputs": [],
      "source": [
        "def desenha_forca(erros):\n",
        "    print(\"  _______     \")\n",
        "    print(\" |/      |    \")\n",
        "\n",
        "    if(erros == 1):\n",
        "        print(\" |      (_)   \")\n",
        "        print(\" |            \")\n",
        "        print(\" |            \")\n",
        "        print(\" |            \")\n",
        "\n",
        "    if(erros == 2):\n",
        "        print(\" |      (_)   \")\n",
        "        print(\" |      \\     \")\n",
        "        print(\" |            \")\n",
        "        print(\" |            \")\n",
        "\n",
        "    if(erros == 3):\n",
        "        print(\" |      (_)   \")\n",
        "        print(\" |      \\|    \")\n",
        "        print(\" |            \")\n",
        "        print(\" |            \")\n",
        "\n",
        "    if(erros == 4):\n",
        "        print(\" |      (_)   \")\n",
        "        print(\" |      \\|/   \")\n",
        "        print(\" |            \")\n",
        "        print(\" |            \")\n",
        "\n",
        "    if(erros == 5):\n",
        "        print(\" |      (_)   \")\n",
        "        print(\" |      \\|/   \")\n",
        "        print(\" |       |    \")\n",
        "        print(\" |            \")\n",
        "\n",
        "    if(erros == 6):\n",
        "        print(\" |      (_)   \")\n",
        "        print(\" |      \\|/   \")\n",
        "        print(\" |       |    \")\n",
        "        print(\" |      /     \")\n",
        "\n",
        "    if (erros == 7):\n",
        "        print(\" |      (_)   \")\n",
        "        print(\" |      \\|/   \")\n",
        "        print(\" |       |    \")\n",
        "        print(\" |      / \\   \")\n",
        "\n",
        "    print(\" |            \")\n",
        "    print(\"_|___         \")\n",
        "    print()"
      ]
    },
    {
      "cell_type": "markdown",
      "metadata": {
        "id": "IWA_YCXlsh8B"
      },
      "source": [
        "Função responsável pelo jogo em si (chama as anteriores)"
      ]
    },
    {
      "cell_type": "code",
      "source": [
        "def jogar():    \n",
        "    #palavra secreta (string) e lista de letras certas\n",
        "    palavra_secreta = carrega_palavra_secreta()\n",
        "    letras_acertadas = [\"_\" for letra in palavra_secreta]\n",
        "    \n",
        "    print(f\"Palavra Sorteada: {letras_acertadas} ({len(palavra_secreta)} letras)\", end=\"\\n\\n\")\n",
        "\n",
        "    #variaveis auxiliares do game loop\n",
        "    enforcou = False\n",
        "    acertou = False\n",
        "\n",
        "    erros = 0 #quantidade de tentativas erradas do jogador\n",
        "    letras_erradas = set({}) #conjunto que guarda as letras erradas que o usuario já chutou\n",
        "    \n",
        "    \n",
        "    while ((not enforcou) and (not acertou)): #enquanto não enforcou e não acertou o jogo continua\n",
        "\n",
        "        tupla = pede_chute() #pede o chute do usuário e guarda a tupla com a opção e o chute\n",
        "        opcao = tupla[0]\n",
        "        chute = tupla[1]\n",
        "\n",
        "        print()\n",
        "\n",
        "        if (opcao == 1): #se o usuário chutou uma letra\n",
        "            if (chute in letras_erradas): #jogador já chutou esta letra\n",
        "                print(f\"Você já chutou a letra {chute}!\", end=\"\\n\\n\")\n",
        "                continue\n",
        "\n",
        "            if (chute in palavra_secreta): #jogador chutou uma letra que está na palavra secreta\n",
        "                valida_chute(chute, letras_acertadas, palavra_secreta)\n",
        "\n",
        "            else: #jogador chutou uma letra errada\n",
        "                letras_erradas.add(chute)\n",
        "                erros += 1\n",
        "                desenha_forca(erros)\n",
        "                print(\"Errou:\",letras_erradas)\n",
        "                print(\"Tentativas restantes:\", 7 - erros, end=\"\\n\\n\")\n",
        "                print(letras_acertadas, end=\"\\n\\n\")\n",
        "\n",
        "        else: #se o usuário chutou uma palavra\n",
        "            if (chute == palavra_secreta): #jogador acertou a palavra\n",
        "                acertou = True\n",
        "                imprime_mensagem_vencedor(chute)\n",
        "                break\n",
        "            else: #jogador errou a palavra\n",
        "                erros += 1\n",
        "                print(\"Errou! Não é a fruta:\", chute)\n",
        "                print(\"Tentativas restantes:\", 7 - erros)\n",
        "                print(letras_acertadas, end=\"\\n\\n\")\n",
        "        \n",
        "        if (erros == 7): #caso o jogador tenha chutado 7 palavras erradas, significa que ele enforcou\n",
        "            enforcou = True\n",
        "            imprime_mensagem_perdedor(palavra_secreta)\n",
        "\n",
        "        if (\"_\" not in letras_acertadas): #caso nao existam mais caracteres \"_\" lista, então o jogador ganhou\n",
        "            acertou = True\n",
        "            imprime_mensagem_vencedor()"
      ],
      "metadata": {
        "id": "iM_scKqRtyhC"
      },
      "execution_count": 19,
      "outputs": []
    },
    {
      "cell_type": "markdown",
      "metadata": {
        "id": "oNyq4cy0sh8D"
      },
      "source": [
        "Função principal"
      ]
    },
    {
      "cell_type": "code",
      "execution_count": 20,
      "metadata": {
        "id": "gcdN0if-sh8D"
      },
      "outputs": [],
      "source": [
        "def main():\n",
        "    print(\"*********************************\")\n",
        "    print(\"Bem vindo ao jogo da forca!\")\n",
        "    print(\"*********************************\", end=\"\\n\\n\")\n",
        "    print(\"      Tema do jogo: Frutas!      \", end=\"\\n\\n\")\n",
        "    print(\"Escolha uma das opções abaixo:\")\n",
        "\n",
        "    while True:\n",
        "        print(\"1 - Jogar\")\n",
        "        print(\"2 - Sair\")\n",
        "        print()\n",
        "        \n",
        "        opcao = int(input(\"Digite a opção desejada: \"))\n",
        "        print()\n",
        "\n",
        "        if opcao == 1:\n",
        "            jogar()\n",
        "        elif opcao == 2:\n",
        "            print(\"Até a próxima :)\")\n",
        "            break\n",
        "        else:\n",
        "            print(\"Opção inválida!\", end=\"\\n\\n\")"
      ]
    },
    {
      "cell_type": "markdown",
      "source": [
        "Exemplo do programa rodando"
      ],
      "metadata": {
        "id": "5SP9izbwxd_C"
      }
    },
    {
      "cell_type": "code",
      "execution_count": 21,
      "metadata": {
        "colab": {
          "base_uri": "https://localhost:8080/"
        },
        "id": "eseq5221sh8E",
        "outputId": "853f7664-e759-48fc-cd76-79c580e6eca7"
      },
      "outputs": [
        {
          "output_type": "stream",
          "name": "stdout",
          "text": [
            "*********************************\n",
            "Bem vindo ao jogo da forca!\n",
            "*********************************\n",
            "\n",
            "      Tema do jogo: Frutas!      \n",
            "\n",
            "Escolha uma das opções abaixo:\n",
            "1 - Jogar\n",
            "2 - Sair\n",
            "\n",
            "Digite a opção desejada: 1\n",
            "\n",
            "Palavra Sorteada: ['_', '_', '_', '_', '_', '_', '_', '_'] (8 letras)\n",
            "\n",
            "Escolha uma das opções abaixo:\n",
            "1 - Chutar uma letra\n",
            "2 - Chutar uma palavra\n",
            "\n",
            "Digite a opção desejada: 1\n",
            "Qual letra?: a\n",
            "\n",
            "['_', '_', 'A', '_', '_', '_', '_', 'A']\n",
            "\n",
            "Escolha uma das opções abaixo:\n",
            "1 - Chutar uma letra\n",
            "2 - Chutar uma palavra\n",
            "\n",
            "Digite a opção desejada: 1\n",
            "Qual letra?: e\n",
            "\n",
            "  _______     \n",
            " |/      |    \n",
            " |      (_)   \n",
            " |            \n",
            " |            \n",
            " |            \n",
            " |            \n",
            "_|___         \n",
            "\n",
            "Errou: {'E'}\n",
            "Tentativas restantes: 6\n",
            "\n",
            "['_', '_', 'A', '_', '_', '_', '_', 'A']\n",
            "\n",
            "Escolha uma das opções abaixo:\n",
            "1 - Chutar uma letra\n",
            "2 - Chutar uma palavra\n",
            "\n",
            "Digite a opção desejada: 1\n",
            "Qual letra?: i\n",
            "\n",
            "['_', '_', 'A', '_', 'I', '_', '_', 'A']\n",
            "\n",
            "Escolha uma das opções abaixo:\n",
            "1 - Chutar uma letra\n",
            "2 - Chutar uma palavra\n",
            "\n",
            "Digite a opção desejada: 1\n",
            "Qual letra?: o\n",
            "\n",
            "['_', '_', 'A', '_', 'I', 'O', '_', 'A']\n",
            "\n",
            "Escolha uma das opções abaixo:\n",
            "1 - Chutar uma letra\n",
            "2 - Chutar uma palavra\n",
            "\n",
            "Digite a opção desejada: 1\n",
            "Qual letra?: b\n",
            "\n",
            "  _______     \n",
            " |/      |    \n",
            " |      (_)   \n",
            " |      \\     \n",
            " |            \n",
            " |            \n",
            " |            \n",
            "_|___         \n",
            "\n",
            "Errou: {'B', 'E'}\n",
            "Tentativas restantes: 5\n",
            "\n",
            "['_', '_', 'A', '_', 'I', 'O', '_', 'A']\n",
            "\n",
            "Escolha uma das opções abaixo:\n",
            "1 - Chutar uma letra\n",
            "2 - Chutar uma palavra\n",
            "\n",
            "Digite a opção desejada: 1\n",
            "Qual letra?: c\n",
            "\n",
            "  _______     \n",
            " |/      |    \n",
            " |      (_)   \n",
            " |      \\|    \n",
            " |            \n",
            " |            \n",
            " |            \n",
            "_|___         \n",
            "\n",
            "Errou: {'B', 'E', 'C'}\n",
            "Tentativas restantes: 4\n",
            "\n",
            "['_', '_', 'A', '_', 'I', 'O', '_', 'A']\n",
            "\n",
            "Escolha uma das opções abaixo:\n",
            "1 - Chutar uma letra\n",
            "2 - Chutar uma palavra\n",
            "\n",
            "Digite a opção desejada: 1\n",
            "Qual letra?: d\n",
            "\n",
            "  _______     \n",
            " |/      |    \n",
            " |      (_)   \n",
            " |      \\|/   \n",
            " |            \n",
            " |            \n",
            " |            \n",
            "_|___         \n",
            "\n",
            "Errou: {'B', 'D', 'E', 'C'}\n",
            "Tentativas restantes: 3\n",
            "\n",
            "['_', '_', 'A', '_', 'I', 'O', '_', 'A']\n",
            "\n",
            "Escolha uma das opções abaixo:\n",
            "1 - Chutar uma letra\n",
            "2 - Chutar uma palavra\n",
            "\n",
            "Digite a opção desejada: 1\n",
            "Qual letra?: g\n",
            "\n",
            "['G', '_', 'A', '_', 'I', 'O', '_', 'A']\n",
            "\n",
            "Escolha uma das opções abaixo:\n",
            "1 - Chutar uma letra\n",
            "2 - Chutar uma palavra\n",
            "\n",
            "Digite a opção desejada: 2\n",
            "Qual palavra?: Graviola\n",
            "\n",
            "Parabéns, você ganhou!\n",
            "       ___________      \n",
            "      '._==_==_=_.'     \n",
            "      .-\\:      /-.    \n",
            "     | (|:.     |) |    \n",
            "      '-|:.     |-'     \n",
            "        \\::.    /      \n",
            "         '::. .'        \n",
            "           ) (          \n",
            "         _.' '._        \n",
            "        '-------'       \n",
            "A palavra é: GRAVIOLA\n",
            "\n",
            "1 - Jogar\n",
            "2 - Sair\n",
            "\n",
            "Digite a opção desejada: 2\n",
            "\n",
            "Até a próxima :)\n"
          ]
        }
      ],
      "source": [
        "if (__name__ == \"__main__\"):\n",
        "    main()"
      ]
    }
  ],
  "metadata": {
    "interpreter": {
      "hash": "8190dd719d07069a85043a014581734a4194a6ce5614a052f635fe32028aa3f8"
    },
    "kernelspec": {
      "display_name": "Python 3.10.1 64-bit",
      "language": "python",
      "name": "python3"
    },
    "language_info": {
      "codemirror_mode": {
        "name": "ipython",
        "version": 3
      },
      "file_extension": ".py",
      "mimetype": "text/x-python",
      "name": "python",
      "nbconvert_exporter": "python",
      "pygments_lexer": "ipython3",
      "version": "3.10.1"
    },
    "orig_nbformat": 4,
    "colab": {
      "name": "Jogo da Forca.ipynb",
      "provenance": [],
      "include_colab_link": true
    }
  },
  "nbformat": 4,
  "nbformat_minor": 0
}